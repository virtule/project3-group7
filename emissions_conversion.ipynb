{
 "cells": [
  {
   "cell_type": "code",
   "execution_count": null,
   "metadata": {},
   "outputs": [],
   "source": [
    "import pandas as pd\n",
    "import json\n"
   ]
  },
  {
   "cell_type": "code",
   "execution_count": null,
   "metadata": {},
   "outputs": [],
   "source": [
    "df = pd.read_csv(\"GCB2022v27_MtCO2_flat.csv\")\n",
    "\n",
    "lat_lon = pd.read_csv(\"country-capital-lat-long-population.csv\")\n",
    "\n"
   ]
  },
  {
   "cell_type": "code",
   "execution_count": null,
   "metadata": {},
   "outputs": [],
   "source": [
    "full_data = pd.merge(df, lat_lon, how='left', on='Country')\n",
    "\n",
    "full_data.head()"
   ]
  },
  {
   "cell_type": "code",
   "execution_count": null,
   "metadata": {},
   "outputs": [],
   "source": [
    "full_data.fillna(0, inplace = True)\n",
    "\n",
    "full_data.head(350)"
   ]
  },
  {
   "cell_type": "code",
   "execution_count": null,
   "metadata": {},
   "outputs": [],
   "source": [
    "data_list = []"
   ]
  },
  {
   "cell_type": "code",
   "execution_count": null,
   "metadata": {},
   "outputs": [],
   "source": [
    "for index, row in full_data.iterrows():\n",
    "    data_dict = {\n",
    "        'Country' : row['Country'],\n",
    "        'Location' : [row['Latitude'], row['Longitude']],\n",
    "        'Year' : row['Year'],\n",
    "        'Total' : row['Total'],\n",
    "        'Coal' : row['Coal'],\n",
    "        'Oil' : row['Oil'],\n",
    "        'Gas' : row['Gas'],\n",
    "        'Cement' : row['Cement'],\n",
    "        'Flaring' : row['Flaring'],\n",
    "        'Other' : row['Other'],\n",
    "        'Per Capita' : row['Per Capita'] \n",
    "    }\n",
    "    data_list.append(data_dict)"
   ]
  },
  {
   "cell_type": "code",
   "execution_count": null,
   "metadata": {},
   "outputs": [],
   "source": [
    "json_data = json.dumps(data_list)"
   ]
  },
  {
   "cell_type": "code",
   "execution_count": null,
   "metadata": {},
   "outputs": [],
   "source": [
    "with open(\"static/js/data.js\", \"w\") as js_file:\n",
    "    js_file.write(f'const data = {json_data};')"
   ]
  },
  {
   "cell_type": "code",
   "execution_count": null,
   "metadata": {},
   "outputs": [],
   "source": []
  }
 ],
 "metadata": {
  "kernelspec": {
   "display_name": "dev",
   "language": "python",
   "name": "python3"
  },
  "language_info": {
   "codemirror_mode": {
    "name": "ipython",
    "version": 3
   },
   "file_extension": ".py",
   "mimetype": "text/x-python",
   "name": "python",
   "nbconvert_exporter": "python",
   "pygments_lexer": "ipython3",
   "version": "3.10.13"
  }
 },
 "nbformat": 4,
 "nbformat_minor": 2
}
